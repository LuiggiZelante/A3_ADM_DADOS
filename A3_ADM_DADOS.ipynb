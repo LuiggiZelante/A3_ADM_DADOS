{
 "cells": [
  {
   "cell_type": "code",
   "execution_count": 24,
   "id": "a6a12435-f01d-4f8b-a457-f3c800e0cb49",
   "metadata": {},
   "outputs": [
    {
     "name": "stdout",
     "output_type": "stream",
     "text": [
      "Requirement already satisfied: pandas in c:\\users\\lucas\\anaconda3\\lib\\site-packages (2.1.4)\n",
      "Requirement already satisfied: numpy<2,>=1.23.2 in c:\\users\\lucas\\anaconda3\\lib\\site-packages (from pandas) (1.26.4)\n",
      "Requirement already satisfied: python-dateutil>=2.8.2 in c:\\users\\lucas\\anaconda3\\lib\\site-packages (from pandas) (2.8.2)\n",
      "Requirement already satisfied: pytz>=2020.1 in c:\\users\\lucas\\anaconda3\\lib\\site-packages (from pandas) (2023.3.post1)\n",
      "Requirement already satisfied: tzdata>=2022.1 in c:\\users\\lucas\\anaconda3\\lib\\site-packages (from pandas) (2023.3)\n",
      "Requirement already satisfied: six>=1.5 in c:\\users\\lucas\\anaconda3\\lib\\site-packages (from python-dateutil>=2.8.2->pandas) (1.16.0)\n",
      "Note: you may need to restart the kernel to use updated packages.\n"
     ]
    }
   ],
   "source": [
    "pip install pandas"
   ]
  },
  {
   "cell_type": "code",
   "execution_count": 25,
   "id": "64706e2d-aee6-43a6-b4ae-6bd6f18a7275",
   "metadata": {},
   "outputs": [],
   "source": [
    "import pandas as pd"
   ]
  },
  {
   "cell_type": "code",
   "execution_count": 26,
   "id": "148373a5-993b-48da-8142-1b7ce1145f92",
   "metadata": {},
   "outputs": [
    {
     "name": "stdout",
     "output_type": "stream",
     "text": [
      "         date  home_team away_team       team            scorer  minute  \\\n",
      "0  1916-07-02      Chile   Uruguay    Uruguay   José Piendibene    44.0   \n",
      "1  1916-07-02      Chile   Uruguay    Uruguay  Isabelino Gradín    55.0   \n",
      "2  1916-07-02      Chile   Uruguay    Uruguay  Isabelino Gradín    70.0   \n",
      "3  1916-07-02      Chile   Uruguay    Uruguay   José Piendibene    75.0   \n",
      "4  1916-07-06  Argentina     Chile  Argentina     Alberto Ohaco     2.0   \n",
      "\n",
      "  own_goal penalty  \n",
      "0    False   False  \n",
      "1    False   False  \n",
      "2    False   False  \n",
      "3    False   False  \n",
      "4    False   False  \n",
      "         date home_team away_team  home_score  away_score tournament     city  \\\n",
      "0  1872-11-30  Scotland   England         0.0         0.0   Friendly  Glasgow   \n",
      "1  1873-03-08   England  Scotland         4.0         2.0   Friendly   London   \n",
      "2  1874-03-07  Scotland   England         2.0         1.0   Friendly  Glasgow   \n",
      "3  1875-03-06   England  Scotland         2.0         2.0   Friendly   London   \n",
      "4  1876-03-04  Scotland   England         3.0         0.0   Friendly  Glasgow   \n",
      "\n",
      "    country  neutral  \n",
      "0  Scotland    False  \n",
      "1   England    False  \n",
      "2  Scotland    False  \n",
      "3   England    False  \n",
      "4  Scotland    False  \n",
      "         date    home_team         away_team       winner first_shooter\n",
      "0  1967-08-22        India            Taiwan       Taiwan           NaN\n",
      "1  1971-11-14  South Korea  Vietnam Republic  South Korea           NaN\n",
      "2  1972-05-07  South Korea              Iraq         Iraq           NaN\n",
      "3  1972-05-17     Thailand       South Korea  South Korea           NaN\n",
      "4  1972-05-19     Thailand          Cambodia     Thailand           NaN\n"
     ]
    }
   ],
   "source": [
    "# CARREGANDO E RENOMEANDO OS DATAFRAMES\n",
    "df_marcadores = pd.read_csv('goalscorers.csv')\n",
    "df_resultados = pd.read_csv('results.csv')\n",
    "df_chutes = pd.read_csv('shootouts.csv')\n",
    "\n",
    "# EXIBINDO OS CABEÇALHOS DOS DATAFRAMES\n",
    "print(df_marcadores.head())\n",
    "print(df_resultados.head())\n",
    "print(df_chutes.head())"
   ]
  },
  {
   "cell_type": "code",
   "execution_count": 32,
   "id": "28a0a28f-0d8c-438b-96bc-d97de23c148a",
   "metadata": {},
   "outputs": [],
   "source": [
    "df_marcadores = df_marcadores.rename(columns={'date': 'DATA', 'home_team': 'TIME_CASA', 'away_team': 'TIME_VISITANTE', 'team':'TIME_VENCEDOR', 'scorer': 'MARCADOR', 'minute':'MINUTO_GOL', 'own_goal':'GOL_CONTRA', 'penalty':'PENALTI'})\n",
    "df_chutes = df_chutes.rename(columns={'date': 'DATA', 'home_team': 'TIME_CASA','away_team': 'TIME_VISITANTE', 'winner' : 'VENCEDOR', 'first_shooter':'PRIMEIRO_CHUTE' })\n",
    "df_resultados = df_resultados.rename(columns={'date':'DATA', 'home_team':'TIME_CASA' , 'away_team':'TIME_VISITANTE', 'home_score':'GOLS_CASA', 'away_score':'GOLS_FORA', 'tournament':'CAMPEONATO', 'city':'CIDADE' ,'country':'PAIS', 'neutral':'CAMPO_NEUTRO'})"
   ]
  },
  {
   "cell_type": "code",
   "execution_count": 33,
   "id": "246bd923-8d58-4138-b76e-e8eade9a5b0e",
   "metadata": {},
   "outputs": [
    {
     "name": "stdout",
     "output_type": "stream",
     "text": [
      "         DATA  TIME_CASA TIME_VISITANTE TIME_VENCEDOR          MARCADOR  \\\n",
      "0  1916-07-02      Chile        Uruguay       Uruguay   José Piendibene   \n",
      "1  1916-07-02      Chile        Uruguay       Uruguay  Isabelino Gradín   \n",
      "2  1916-07-02      Chile        Uruguay       Uruguay  Isabelino Gradín   \n",
      "3  1916-07-02      Chile        Uruguay       Uruguay   José Piendibene   \n",
      "4  1916-07-06  Argentina          Chile     Argentina     Alberto Ohaco   \n",
      "\n",
      "   MINUTO_GOL GOL_CONTRA PENALTI  \n",
      "0        44.0      False   False  \n",
      "1        55.0      False   False  \n",
      "2        70.0      False   False  \n",
      "3        75.0      False   False  \n",
      "4         2.0      False   False  \n",
      "         DATA TIME_CASA TIME_VISITANTE  GOLS_CASA  GOLS_FORA CAMPEONATO  \\\n",
      "0  1872-11-30  Scotland        England        0.0        0.0   Friendly   \n",
      "1  1873-03-08   England       Scotland        4.0        2.0   Friendly   \n",
      "2  1874-03-07  Scotland        England        2.0        1.0   Friendly   \n",
      "3  1875-03-06   England       Scotland        2.0        2.0   Friendly   \n",
      "4  1876-03-04  Scotland        England        3.0        0.0   Friendly   \n",
      "\n",
      "    CIDADE      PAIS  CAMPO_NEUTRO  \n",
      "0  Glasgow  Scotland         False  \n",
      "1   London   England         False  \n",
      "2  Glasgow  Scotland         False  \n",
      "3   London   England         False  \n",
      "4  Glasgow  Scotland         False  \n",
      "         DATA    TIME_CASA    TIME_VISITANTE     VENCEDOR PRIMEIRO_CHUTE\n",
      "0  1967-08-22        India            Taiwan       Taiwan            NaN\n",
      "1  1971-11-14  South Korea  Vietnam Republic  South Korea            NaN\n",
      "2  1972-05-07  South Korea              Iraq         Iraq            NaN\n",
      "3  1972-05-17     Thailand       South Korea  South Korea            NaN\n",
      "4  1972-05-19     Thailand          Cambodia     Thailand            NaN\n"
     ]
    }
   ],
   "source": [
    "print(df_marcadores.head())\n",
    "print(df_resultados.head())\n",
    "print(df_chutes.head())"
   ]
  },
  {
   "cell_type": "code",
   "execution_count": 35,
   "id": "41ef60fb-11fc-45c9-b8be-6a6ac77be7c8",
   "metadata": {},
   "outputs": [
    {
     "name": "stdout",
     "output_type": "stream",
     "text": [
      "\n",
      "Dados com a coluna de total de gols:\n",
      "         DATA TIME_CASA TIME_VISITANTE  GOLS_CASA  GOLS_FORA CAMPEONATO  \\\n",
      "0  1872-11-30  Scotland        England        0.0        0.0   Friendly   \n",
      "1  1873-03-08   England       Scotland        4.0        2.0   Friendly   \n",
      "2  1874-03-07  Scotland        England        2.0        1.0   Friendly   \n",
      "3  1875-03-06   England       Scotland        2.0        2.0   Friendly   \n",
      "4  1876-03-04  Scotland        England        3.0        0.0   Friendly   \n",
      "\n",
      "    CIDADE      PAIS  CAMPO_NEUTRO  TOTAL_GOLS  \n",
      "0  Glasgow  Scotland         False         0.0  \n",
      "1   London   England         False         6.0  \n",
      "2  Glasgow  Scotland         False         3.0  \n",
      "3   London   England         False         4.0  \n",
      "4  Glasgow  Scotland         False         3.0  \n",
      "\n",
      "Média de gols por partida: 2.94\n"
     ]
    }
   ],
   "source": [
    "df = pd.DataFrame(df_resultados)\n",
    "# ADICIONANDO UMA COLUNA DE TOTAL DE GOLS DA PARTIDA, SOMANDO COLS CASA E GOLS FORA\n",
    "df['TOTAL_GOLS'] = df['GOLS_CASA'] + df['GOLS_FORA']\n",
    "\n",
    "# CALCULANDO A MEDIA DE GOLS POR PARTIDA\n",
    "media_gols = df['TOTAL_GOLS'].mean()\n",
    "\n",
    "# EXIBINDO O DATAFRAME COM A NOVA COLUNA DE MEDIA DE GOLS \n",
    "print(\"\\nDados com a coluna de total de gols:\")\n",
    "print(df.head())\n",
    "print(f\"\\nMédia de gols por partida: {media_gols:.2f}\")"
   ]
  },
  {
   "cell_type": "code",
   "execution_count": 36,
   "id": "9ce687d6-7112-40f9-9b93-718a0b0f40b0",
   "metadata": {},
   "outputs": [
    {
     "name": "stdout",
     "output_type": "stream",
     "text": [
      "         DATA TIME_CASA TIME_VISITANTE  GOLS_CASA  GOLS_FORA CAMPEONATO  \\\n",
      "0  1872-11-30  Scotland        England        0.0        0.0   Friendly   \n",
      "1  1873-03-08   England       Scotland        4.0        2.0   Friendly   \n",
      "2  1874-03-07  Scotland        England        2.0        1.0   Friendly   \n",
      "3  1875-03-06   England       Scotland        2.0        2.0   Friendly   \n",
      "4  1876-03-04  Scotland        England        3.0        0.0   Friendly   \n",
      "\n",
      "    CIDADE      PAIS  CAMPO_NEUTRO  \n",
      "0  Glasgow  Scotland         False  \n",
      "1   London   England         False  \n",
      "2  Glasgow  Scotland         False  \n",
      "3   London   England         False  \n",
      "4  Glasgow  Scotland         False  \n"
     ]
    }
   ],
   "source": [
    "print(df_resultados.head())"
   ]
  },
  {
   "cell_type": "code",
   "execution_count": 40,
   "id": "b466fa95-38c8-40e4-a8f8-fe8edc0099f0",
   "metadata": {},
   "outputs": [
    {
     "name": "stdout",
     "output_type": "stream",
     "text": [
      "\n",
      "Dados com a coluna de resultado:\n",
      "         DATA TIME_CASA TIME_VISITANTE  GOLS_CASA  GOLS_FORA CAMPEONATO  \\\n",
      "0  1872-11-30  Scotland        England        0.0        0.0   Friendly   \n",
      "1  1873-03-08   England       Scotland        4.0        2.0   Friendly   \n",
      "2  1874-03-07  Scotland        England        2.0        1.0   Friendly   \n",
      "3  1875-03-06   England       Scotland        2.0        2.0   Friendly   \n",
      "4  1876-03-04  Scotland        England        3.0        0.0   Friendly   \n",
      "\n",
      "    CIDADE      PAIS  CAMPO_NEUTRO     RESULTADO  \n",
      "0  Glasgow  Scotland         False        Empate  \n",
      "1   London   England         False  Vitória Casa  \n",
      "2  Glasgow  Scotland         False  Vitória Casa  \n",
      "3   London   England         False        Empate  \n",
      "4  Glasgow  Scotland         False  Vitória Casa  \n"
     ]
    }
   ],
   "source": [
    "df = pd.DataFrame(df_resultados)\n",
    "\n",
    "# ADICIONANDO UMA COLUNA DE RESULTADO\n",
    "def determinar_resultado(gols_casa, gols_fora):\n",
    "    if gols_casa > gols_fora:\n",
    "        return 'Vitória Casa'\n",
    "    elif gols_casa < gols_fora:\n",
    "        return 'Vitória Visitante'\n",
    "    else:\n",
    "        return 'Empate'\n",
    "\n",
    "df['RESULTADO'] = df.apply(lambda row: determinar_resultado(row['GOLS_CASA'], row['GOLS_FORA']), axis=1)\n",
    "\n",
    "# EXIBINDO O DATAFRAME DA COLUNA RESULTADO\n",
    "print(\"\\nDados com a coluna de resultado:\")\n",
    "print(df.head())"
   ]
  },
  {
   "cell_type": "code",
   "execution_count": 44,
   "id": "8c7bfbf5-99a2-42ec-87f6-7154a9e548a5",
   "metadata": {},
   "outputs": [
    {
     "name": "stdout",
     "output_type": "stream",
     "text": [
      "Desempenho por campeonato para cada time (ordenado por campeonato e pontos):\n",
      "                CAMPEONATO            TIME  PONTOS\n",
      "3          ABCS Tournament        Suriname      23\n",
      "2          ABCS Tournament         Curaçao      14\n",
      "0          ABCS Tournament           Aruba      10\n",
      "1          ABCS Tournament         Bonaire       8\n",
      "12           AFC Asian Cup            Iran     155\n",
      "...                    ...             ...     ...\n",
      "2640       World Unity Cup     Tamil Eelam       6\n",
      "2639       World Unity Cup  Chagos Islands       3\n",
      "2638       World Unity Cup          Barawa       0\n",
      "2641  Évence Coppée Trophy         Belgium       1\n",
      "2642  Évence Coppée Trophy          France       1\n",
      "\n",
      "[2643 rows x 3 columns]\n"
     ]
    }
   ],
   "source": [
    "df = pd.DataFrame(df_resultados)\n",
    "\n",
    "# ADICIONANDO COLUNA DE RESULTADO\n",
    "df['RESULTADO_CASA'] = df.apply(lambda row: 'Vitória' if row['GOLS_CASA'] > row['GOLS_FORA'] else ('Empate' if row['GOLS_CASA'] == row['GOLS_FORA'] else 'Derrota'), axis=1)\n",
    "df['RESULTADO_FORA'] = df.apply(lambda row: 'Vitória' if row['GOLS_FORA'] > row['GOLS_CASA'] else ('Empate' if row['GOLS_FORA'] == row['GOLS_CASA'] else 'Derrota'), axis=1)\n",
    "\n",
    "# CALCULANDO OS PONTOS DE CADA TIME\n",
    "df['PONTOS_CASA'] = df['RESULTADO_CASA'].apply(lambda x: 3 if x == 'Vitória' else (1 if x == 'Empate' else 0))\n",
    "df['PONTOS_FORA'] = df['RESULTADO_FORA'].apply(lambda x: 3 if x == 'Vitória' else (1 if x == 'Empate' else 0))\n",
    "\n",
    "# UNINDO OS DADOS E CALCULANDO OS DESEMPENHOS\n",
    "df_casa = df[['CAMPEONATO', 'TIME_CASA', 'PONTOS_CASA']].rename(columns={'TIME_CASA': 'TIME', 'PONTOS_CASA': 'PONTOS'})\n",
    "df_fora = df[['CAMPEONATO', 'TIME_VISITANTE', 'PONTOS_FORA']].rename(columns={'TIME_VISITANTE': 'TIME', 'PONTOS_FORA': 'PONTOS'})\n",
    "\n",
    "df_desempenho = pd.concat([df_casa, df_fora])\n",
    "\n",
    "# AGRUPANDO POR CAMPEONATO E TIME\n",
    "desempenho_por_time = df_desempenho.groupby(['CAMPEONATO', 'TIME']).sum().reset_index()\n",
    "\n",
    "# ORDENANDO O DATAFRAME\n",
    "desempenho_por_time = desempenho_por_time.sort_values(by=['CAMPEONATO', 'PONTOS'], ascending=[True, False])\n",
    "\n",
    "# EXIBINDO O DATAFRAME DE RESULTADO POR TIME\n",
    "print(\"Desempenho por campeonato para cada time (ordenado por campeonato e pontos):\")\n",
    "print(desempenho_por_time)"
   ]
  },
  {
   "cell_type": "code",
   "execution_count": 46,
   "id": "9eaa3c5d-1624-4680-9dcb-e7a54d333101",
   "metadata": {},
   "outputs": [
    {
     "name": "stdout",
     "output_type": "stream",
     "text": [
      "20 primeiros resultados do campeonato 'Friendly':\n",
      "     CAMPEONATO                 TIME  PONTOS\n",
      "1419   Friendly              Germany    1056\n",
      "1356   Friendly               Brazil     977\n",
      "1436   Friendly              Hungary     943\n",
      "1563   Friendly               Sweden     879\n",
      "1402   Friendly              England     798\n",
      "1515   Friendly               Poland     798\n",
      "1478   Friendly               Mexico     762\n",
      "1411   Friendly               France     759\n",
      "1489   Friendly          Netherlands     704\n",
      "1443   Friendly                Italy     695\n",
      "1332   Friendly            Argentina     693\n",
      "1338   Friendly              Austria     667\n",
      "1558   Friendly                Spain     638\n",
      "1347   Friendly              Belgium     615\n",
      "1524   Friendly               Russia     586\n",
      "1564   Friendly          Switzerland     554\n",
      "1580   Friendly  Trinidad and Tobago     543\n",
      "1501   Friendly               Norway     529\n",
      "1392   Friendly              Denmark     525\n",
      "1555   Friendly          South Korea     507\n"
     ]
    }
   ],
   "source": [
    "# FILTRANDO O DATAFRAME DO CAMPEONATO \"FRIENDLY\"\n",
    "campeonato_friendly = desempenho_por_time[desempenho_por_time['CAMPEONATO'] == 'Friendly']\n",
    "\n",
    "# IMPRIMINDO OS 20 PRIMEIROS DO CAMPEONATO\n",
    "print(\"20 primeiros resultados do campeonato 'Friendly':\")\n",
    "print(campeonato_friendly.head(20))"
   ]
  },
  {
   "cell_type": "code",
   "execution_count": 48,
   "id": "1bc54ec2-05d9-4370-acca-0d1722e1da18",
   "metadata": {},
   "outputs": [
    {
     "name": "stdout",
     "output_type": "stream",
     "text": [
      "20 primeiros resultados do campeonato 'FIFA World Cup':\n",
      "          CAMPEONATO         TIME  PONTOS\n",
      "1011  FIFA World Cup       Brazil     247\n",
      "1031  FIFA World Cup      Germany     225\n",
      "1005  FIFA World Cup    Argentina     158\n",
      "1042  FIFA World Cup        Italy     156\n",
      "1029  FIFA World Cup       France     131\n",
      "1028  FIFA World Cup      England     118\n",
      "1072  FIFA World Cup        Spain     110\n",
      "1049  FIFA World Cup  Netherlands     104\n",
      "1082  FIFA World Cup      Uruguay      88\n",
      "1008  FIFA World Cup      Belgium      73\n",
      "1073  FIFA World Cup       Sweden      70\n",
      "1063  FIFA World Cup       Russia      67\n",
      "1047  FIFA World Cup       Mexico      66\n",
      "1058  FIFA World Cup       Poland      57\n",
      "1059  FIFA World Cup     Portugal      57\n",
      "1074  FIFA World Cup  Switzerland      50\n",
      "1084  FIFA World Cup   Yugoslavia      49\n",
      "1036  FIFA World Cup      Hungary      48\n",
      "1019  FIFA World Cup      Croatia      47\n",
      "1007  FIFA World Cup      Austria      40\n"
     ]
    }
   ],
   "source": [
    "# FILTRANDO O DATAFRAME DO CAMPEONATO \"FIFA WORLD CUP\"\n",
    "campeonato_fifa = desempenho_por_time[desempenho_por_time['CAMPEONATO'] == 'FIFA World Cup']\n",
    "\n",
    "# IMPRIMINDO OS 20 PRIMEIROS DO CAMPEONATO\n",
    "print(\"20 primeiros resultados do campeonato 'FIFA World Cup':\")\n",
    "print(campeonato_fifa.head(20))"
   ]
  },
  {
   "cell_type": "code",
   "execution_count": null,
   "id": "269c098d-2e7b-49ac-b83f-1a079ac21b84",
   "metadata": {},
   "outputs": [],
   "source": []
  }
 ],
 "metadata": {
  "kernelspec": {
   "display_name": "Python 3 (ipykernel)",
   "language": "python",
   "name": "python3"
  },
  "language_info": {
   "codemirror_mode": {
    "name": "ipython",
    "version": 3
   },
   "file_extension": ".py",
   "mimetype": "text/x-python",
   "name": "python",
   "nbconvert_exporter": "python",
   "pygments_lexer": "ipython3",
   "version": "3.11.7"
  }
 },
 "nbformat": 4,
 "nbformat_minor": 5
}
